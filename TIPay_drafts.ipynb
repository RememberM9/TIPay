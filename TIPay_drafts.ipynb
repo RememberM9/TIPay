{
 "cells": [
  {
   "cell_type": "code",
   "execution_count": null,
   "metadata": {
    "id": "eGt_m8Uf8F9C"
   },
   "outputs": [],
   "source": [
    "# author name\n",
    "class Wallet():\n",
    "  def __init__(self, id: int):\n",
    "    pass"
   ]
  },
  {
   "cell_type": "code",
   "execution_count": null,
   "metadata": {
    "id": "Axlh4g2D8USt"
   },
   "outputs": [],
   "source": [
    "# author name\n",
    "class User():\n",
    "  def __init__(self, name: str):\n",
    "    self.__name = name\n",
    "\n",
    "\n",
    "class Student(User):\n",
    "  def __init__(self, name: str):\n",
    "    super().__init__(name)\n",
    "\n",
    "\n",
    "class Staff(User):\n",
    "  def __init__(self, name: str):\n",
    "    super().__init__(name)\n",
    "\n",
    "\n",
    "class Instructor(User):\n",
    "  def __init__(self, name: str):\n",
    "    super().__init__(name)\n",
    "\n",
    "\n",
    "\n"
   ]
  },
  {
   "cell_type": "code",
   "execution_count": null,
   "metadata": {
    "id": "5PqRuo-D8UhD"
   },
   "outputs": [],
   "source": []
  },
  {
   "cell_type": "code",
   "execution_count": null,
   "metadata": {
    "id": "snkCHKRo8Uvd"
   },
   "outputs": [],
   "source": []
  },
  {
   "cell_type": "code",
   "execution_count": null,
   "metadata": {
    "id": "DAkh_Gok8U9x"
   },
   "outputs": [],
   "source": []
  },
  {
   "cell_type": "code",
   "execution_count": null,
   "metadata": {
    "id": "toZuOlpm8VgY"
   },
   "outputs": [],
   "source": [
    "from sqlite3 import connect\n",
    "import json\n",
    "\n",
    "db_file_path = \"./database/data.db\"\n",
    "\n",
    "class Database:\n",
    "    def __init__(self, name: str, template):\n",
    "        self.__name = name\n",
    "        conn = self.__conn = connect(db_file_path)\n",
    "        cursor = conn.cursor()\n",
    "        cursor.execute(f\"CREATE TABLE IF NOT EXISTS {name} (id INTEGER, name TEXT)\")\n",
    "        cursor.close()\n",
    "\n",
    "    def getData(self):\n",
    "        c = self.__conn.cursor()\n",
    "        c.execute(f\"SELECT * FROM {self.__name}\")\n",
    "        rows = c.fetchall()\n",
    "        # Get column names\n",
    "        column_names = [description[0] for description in c.description]\n",
    "        # Convert rows to list of dictionaries\n",
    "        data = [dict(zip(column_names, row)) for row in rows]\n",
    "        # Print as JSON\n",
    "        print(json.dumps(data, indent=2))\n",
    "\n",
    "    def prepare(self):\n",
    "        self.__conn()\n",
    "\n",
    "    def done(self):\n",
    "        # Cleanup\n",
    "        self.__cursor.close()\n",
    "        self.__conn.close()\n",
    "\n",
    "\n",
    "# db = Database(\"users\", {\"id\":123, \"name\":\"wallet\"})\n",
    "# db.getData()\n",
    "# db.done()"
   ]
  }
 ],
 "metadata": {
  "colab": {
   "authorship_tag": "ABX9TyPtZHPwnwuDKbXOtaisH/yA",
   "provenance": []
  },
  "kernelspec": {
   "display_name": "Python 3",
   "name": "python3"
  },
  "language_info": {
   "codemirror_mode": {
    "name": "ipython",
    "version": 3
   },
   "file_extension": ".py",
   "mimetype": "text/x-python",
   "name": "python",
   "nbconvert_exporter": "python",
   "pygments_lexer": "ipython3",
   "version": "3.11.9"
  }
 },
 "nbformat": 4,
 "nbformat_minor": 0
}
