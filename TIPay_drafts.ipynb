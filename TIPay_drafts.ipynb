{
 "cells": [
  {
   "cell_type": "code",
   "execution_count": null,
   "metadata": {
    "id": "eGt_m8Uf8F9C"
   },
   "outputs": [],
   "source": [
    "# author name\n",
    "class Wallet():\n",
    "  def __init__(self, id: int):\n",
    "    pass"
   ]
  },
  {
   "cell_type": "code",
   "execution_count": null,
   "metadata": {
    "id": "Axlh4g2D8USt"
   },
   "outputs": [],
   "source": [
    "# author name\n",
    "class User():\n",
    "  def __init__(self, name: str):\n",
    "    self.__name = name\n",
    "\n",
    "\n",
    "class Student(User):\n",
    "  def __init__(self, name: str):\n",
    "    super().__init__(name)\n",
    "\n",
    "\n",
    "class Staff(User):\n",
    "  def __init__(self, name: str):\n",
    "    super().__init__(name)\n",
    "\n",
    "\n",
    "class Instructor(User):\n",
    "  def __init__(self, name: str):\n",
    "    super().__init__(name)\n",
    "\n",
    "\n",
    "\n"
   ]
  },
  {
   "cell_type": "code",
   "execution_count": null,
   "metadata": {
    "id": "5PqRuo-D8UhD"
   },
   "outputs": [],
   "source": []
  },
  {
   "cell_type": "code",
   "execution_count": null,
   "metadata": {
    "id": "snkCHKRo8Uvd"
   },
   "outputs": [],
   "source": []
  },
  {
   "cell_type": "code",
   "execution_count": null,
   "metadata": {
    "id": "DAkh_Gok8U9x"
   },
   "outputs": [],
   "source": []
  },
  {
   "cell_type": "code",
   "execution_count": null,
   "metadata": {
    "id": "toZuOlpm8VgY"
   },
   "outputs": [],
   "source": []
  }
 ],
 "metadata": {
  "colab": {
   "authorship_tag": "ABX9TyPtZHPwnwuDKbXOtaisH/yA",
   "provenance": []
  },
  "kernelspec": {
   "display_name": "Python 3",
   "name": "python3"
  },
  "language_info": {
   "codemirror_mode": {
    "name": "ipython",
    "version": 3
   },
   "file_extension": ".py",
   "mimetype": "text/x-python",
   "name": "python",
   "nbconvert_exporter": "python",
   "pygments_lexer": "ipython3",
   "version": "3.11.9"
  }
 },
 "nbformat": 4,
 "nbformat_minor": 0
}
